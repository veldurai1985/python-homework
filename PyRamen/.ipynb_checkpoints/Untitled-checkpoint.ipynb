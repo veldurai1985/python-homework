{
 "cells": [
  {
   "cell_type": "code",
   "execution_count": 9,
   "metadata": {},
   "outputs": [],
   "source": [
    "test_dict = { 'a':{'01-count': 0, '02-revenue': 0, '03-cogs': 0, '04-profit': 0}, \n",
    "              'b':{'01-count': 0, '02-revenue': 0, '03-cogs': 0, '04-profit': 0}, \n",
    "              'c':{'01-count': 0, '02-revenue': 0, '03-cogs': 0, '04-profit': 0}}"
   ]
  },
  {
   "cell_type": "code",
   "execution_count": 10,
   "metadata": {},
   "outputs": [
    {
     "name": "stdout",
     "output_type": "stream",
     "text": [
      "{'a': {'01-count': 0, '02-revenue': 0, '03-cogs': 0, '04-profit': 0}, 'b': {'01-count': 0, '02-revenue': 0, '03-cogs': 0, '04-profit': 0}, 'c': {'01-count': 0, '02-revenue': 0, '03-cogs': 0, '04-profit': 0}}\n"
     ]
    }
   ],
   "source": [
    "print (test_dict)"
   ]
  },
  {
   "cell_type": "code",
   "execution_count": 11,
   "metadata": {},
   "outputs": [],
   "source": [
    "test_dict['a']['01-count'] = 10"
   ]
  },
  {
   "cell_type": "code",
   "execution_count": 12,
   "metadata": {},
   "outputs": [
    {
     "name": "stdout",
     "output_type": "stream",
     "text": [
      "{'a': {'01-count': 10, '02-revenue': 0, '03-cogs': 0, '04-profit': 0}, 'b': {'01-count': 0, '02-revenue': 0, '03-cogs': 0, '04-profit': 0}, 'c': {'01-count': 0, '02-revenue': 0, '03-cogs': 0, '04-profit': 0}}\n"
     ]
    }
   ],
   "source": [
    "print (test_dict)"
   ]
  },
  {
   "cell_type": "code",
   "execution_count": null,
   "metadata": {},
   "outputs": [],
   "source": []
  }
 ],
 "metadata": {
  "kernelspec": {
   "display_name": "Python 3",
   "language": "python",
   "name": "python3"
  },
  "language_info": {
   "codemirror_mode": {
    "name": "ipython",
    "version": 3
   },
   "file_extension": ".py",
   "mimetype": "text/x-python",
   "name": "python",
   "nbconvert_exporter": "python",
   "pygments_lexer": "ipython3",
   "version": "3.7.4"
  }
 },
 "nbformat": 4,
 "nbformat_minor": 4
}
